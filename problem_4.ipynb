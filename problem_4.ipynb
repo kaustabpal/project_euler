{
 "cells": [
  {
   "cell_type": "markdown",
   "metadata": {},
   "source": [
    "## Problem 4\n",
    "\n",
    "A palindromic number reads the same both ways. The largest palindrome made from the product of two 2-digit numbers is 9009 = 91 × 99.\n",
    "\n",
    "Find the largest palindrome made from the product of two 3-digit numbers.\n"
   ]
  },
  {
   "cell_type": "markdown",
   "metadata": {},
   "source": [
    "### Solution\n",
    "\n",
    "The max length of the product of two $n$ digit numbers will always be the sum of their lengths. Thus we can assume that the product of two three digit numbers $i$ and $j$ which is also a palindrome is $abccba$.\n",
    "\n",
    "Thus we can write $abccba$ as \n",
    "\n",
    "$100000a+10000b+1000c+100c+10b+a = i*j$\n",
    "\n",
    "$\\implies 100000a+10000b+1000c+100c+10b+a=i*j$\n",
    "\n",
    "$\\implies 100001a+10010b+1100c=i*j$\n",
    "\n",
    "$\\implies 11(9091a+910b+100c)=i*j$\n",
    "\n",
    "Thus we can see that the product of $i$ and $j$ is a multiple of $11$. Which means either $i$ is a multiple of $11$ or $j$ is a multiple of $11$. In our implementation, we consider $i$ as a multiple of $11$. Therefore $i$ starts from the highest three digit number which is a multiple of $11$, i.e. $990$ and decreases by $11$. $j$ starts from $999$ and decreases by $1$."
   ]
  },
  {
   "cell_type": "code",
   "execution_count": 70,
   "metadata": {},
   "outputs": [],
   "source": [
    "def ispalindrome(n):\n",
    "    tmp=n\n",
    "    r=0\n",
    "    while(tmp>0):\n",
    "        r=r*10+int(tmp%10)\n",
    "        tmp=int(tmp/10)\n",
    "    if(r==n):\n",
    "        return True\n",
    "    return False"
   ]
  },
  {
   "cell_type": "code",
   "execution_count": 116,
   "metadata": {},
   "outputs": [],
   "source": [
    "max_num=0\n",
    "max_i=990\n",
    "max_j=999\n",
    "\n",
    "for i in range(990,99,-11):\n",
    "    for j in range(999,99,-1):\n",
    "        if(ispalindrome(i*j)):\n",
    "            if((i*j)>max_num):\n",
    "                max_num=i*j\n",
    "                max_i=i\n",
    "                max_j=j"
   ]
  },
  {
   "cell_type": "code",
   "execution_count": 117,
   "metadata": {},
   "outputs": [
    {
     "data": {
      "text/plain": [
       "906609"
      ]
     },
     "execution_count": 117,
     "metadata": {},
     "output_type": "execute_result"
    }
   ],
   "source": [
    "max_num"
   ]
  },
  {
   "cell_type": "code",
   "execution_count": 118,
   "metadata": {},
   "outputs": [
    {
     "data": {
      "text/plain": [
       "913"
      ]
     },
     "execution_count": 118,
     "metadata": {},
     "output_type": "execute_result"
    }
   ],
   "source": [
    "max_i"
   ]
  },
  {
   "cell_type": "code",
   "execution_count": 119,
   "metadata": {},
   "outputs": [
    {
     "data": {
      "text/plain": [
       "100"
      ]
     },
     "execution_count": 119,
     "metadata": {},
     "output_type": "execute_result"
    }
   ],
   "source": [
    "j"
   ]
  },
  {
   "cell_type": "code",
   "execution_count": null,
   "metadata": {},
   "outputs": [],
   "source": []
  }
 ],
 "metadata": {
  "kernelspec": {
   "display_name": "Python 3",
   "language": "python",
   "name": "python3"
  },
  "language_info": {
   "codemirror_mode": {
    "name": "ipython",
    "version": 3
   },
   "file_extension": ".py",
   "mimetype": "text/x-python",
   "name": "python",
   "nbconvert_exporter": "python",
   "pygments_lexer": "ipython3",
   "version": "3.8.3"
  }
 },
 "nbformat": 4,
 "nbformat_minor": 4
}
