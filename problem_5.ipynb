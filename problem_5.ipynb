{
 "cells": [
  {
   "cell_type": "markdown",
   "metadata": {},
   "source": [
    "# Problem 5\n",
    "\n",
    "2520 is the smallest number that can be divided by each of the numbers from 1 to 10 without any remainder.\n",
    "\n",
    "What is the smallest positive number that is evenly divisible by all of the numbers from 1 to 20?"
   ]
  },
  {
   "cell_type": "markdown",
   "metadata": {},
   "source": [
    "## 1. Brute-force method"
   ]
  },
  {
   "cell_type": "code",
   "execution_count": 49,
   "metadata": {
    "scrolled": true
   },
   "outputs": [
    {
     "ename": "KeyboardInterrupt",
     "evalue": "",
     "output_type": "error",
     "traceback": [
      "\u001b[0;31m---------------------------------------------------------------------------\u001b[0m",
      "\u001b[0;31mKeyboardInterrupt\u001b[0m                         Traceback (most recent call last)",
      "\u001b[0;32m<ipython-input-49-1f65f120dfdb>\u001b[0m in \u001b[0;36m<module>\u001b[0;34m\u001b[0m\n\u001b[1;32m      5\u001b[0m     \u001b[0mflag\u001b[0m \u001b[0;34m=\u001b[0m \u001b[0;32mTrue\u001b[0m\u001b[0;34m\u001b[0m\u001b[0;34m\u001b[0m\u001b[0m\n\u001b[1;32m      6\u001b[0m     \u001b[0;32mfor\u001b[0m \u001b[0mi\u001b[0m \u001b[0;32min\u001b[0m \u001b[0mrange\u001b[0m\u001b[0;34m(\u001b[0m\u001b[0;36m11\u001b[0m\u001b[0;34m,\u001b[0m\u001b[0;36m101\u001b[0m\u001b[0;34m)\u001b[0m\u001b[0;34m:\u001b[0m\u001b[0;34m\u001b[0m\u001b[0;34m\u001b[0m\u001b[0m\n\u001b[0;32m----> 7\u001b[0;31m         \u001b[0;32mif\u001b[0m\u001b[0;34m(\u001b[0m\u001b[0mnum\u001b[0m \u001b[0;34m%\u001b[0m \u001b[0mi\u001b[0m \u001b[0;34m!=\u001b[0m \u001b[0;36m0\u001b[0m\u001b[0;34m)\u001b[0m\u001b[0;34m:\u001b[0m\u001b[0;34m\u001b[0m\u001b[0;34m\u001b[0m\u001b[0m\n\u001b[0m\u001b[1;32m      8\u001b[0m             \u001b[0mflag\u001b[0m \u001b[0;34m=\u001b[0m \u001b[0;32mFalse\u001b[0m\u001b[0;34m\u001b[0m\u001b[0;34m\u001b[0m\u001b[0m\n\u001b[1;32m      9\u001b[0m             \u001b[0;32mbreak\u001b[0m\u001b[0;34m\u001b[0m\u001b[0;34m\u001b[0m\u001b[0m\n",
      "\u001b[0;31mKeyboardInterrupt\u001b[0m: "
     ]
    }
   ],
   "source": [
    "done = False\n",
    "num = 2520\n",
    "\n",
    "while(not done):\n",
    "    flag = True\n",
    "    for i in range(11,101):\n",
    "        if(num % i != 0):\n",
    "            flag = False\n",
    "            break\n",
    "    if(flag == True):\n",
    "        print(num)\n",
    "        done = True\n",
    "        break\n",
    "    num+=2520    "
   ]
  },
  {
   "cell_type": "markdown",
   "metadata": {},
   "source": [
    "While the above code is simple, it takes a long time to run and should not be considered good code. We need to come up with an efficient algorithm to solve the problem much much faster."
   ]
  },
  {
   "cell_type": "markdown",
   "metadata": {},
   "source": [
    "## 2. Efficient method"
   ]
  },
  {
   "cell_type": "markdown",
   "metadata": {},
   "source": [
    "The problem wants us to find the smallest number which is divisable with a set of numbers. i.e. for every number in the set there needs to exist an integer that will give us our desired number. This is basically LCM. Our set consistes of numbers from 1 to 10 and their LCM is 2520.\n",
    "\n",
    "Now we need to find the lcm of all the numbers from 1 to 20.\n",
    "\n",
    "To do this we need to come up with an efficient method to do LCM."
   ]
  },
  {
   "cell_type": "markdown",
   "metadata": {},
   "source": [
    "### The fundamental theory of arithmetic:\n",
    "\n",
    "Every positive integer greater than 1 can be written as a product of prime numbers.\n",
    "\n",
    "$$12 = 2*3*2$$\n",
    "\n",
    "$$14 = 2*7$$\n",
    "\n",
    "If we take $12$, it's prime factors are $2,3,2$. If we take any subset from this set of prime factors and multiply them, that product will divide $12$. \n",
    "\n",
    "For example if we take $2, 3$, we get $6$ which divides $12$. If we take $2,2$, we get $4$ which divides 12.\n",
    "\n",
    "Now suppose we want to find the smallest number divisible by both 12 and 14.\n",
    "\n",
    "We find the smallest set of prime factors that can give us both 12 and 14 and if we multiply them we will get our result.\n",
    "\n",
    "The set includes $2,3,2,7$ and multiplying them gives us $84$.\n",
    "\n",
    "Therefore $84$ is the smallest number divisible by both $12$ and $14$.\n",
    "\n",
    "$84$ is also the LCM of $12$ and $14$."
   ]
  },
  {
   "cell_type": "markdown",
   "metadata": {},
   "source": [
    "Similarly to find the smallest number divisible by $1$ to $20$, we need to find the smallest set of prime factors that can gives us all the integers from $1$ to $20$ and we multiply all the prime factors."
   ]
  },
  {
   "cell_type": "markdown",
   "metadata": {},
   "source": [
    "### Program"
   ]
  },
  {
   "cell_type": "code",
   "execution_count": 83,
   "metadata": {},
   "outputs": [],
   "source": [
    "def is_prime(n):\n",
    "    for i in range(2,int(np.sqrt(n))+1):\n",
    "        if(n%i == 0):\n",
    "            return False\n",
    "    return True"
   ]
  },
  {
   "cell_type": "code",
   "execution_count": 122,
   "metadata": {},
   "outputs": [],
   "source": [
    "def fast_prime(N):\n",
    "    \"\"\"\n",
    "    We cross out all composites from 2 to sqrt(N)\n",
    "    \"\"\"\n",
    "    is_prime = [1]*N\n",
    "    i = 2\n",
    "    # This will loop from 2 to int(sqrt(x))\n",
    "    while i*i <= N:\n",
    "        # If we already crossed out this number, then continue\n",
    "        if is_prime[i] == 0:\n",
    "            i += 1\n",
    "            continue\n",
    "        j = 2*i\n",
    "        while j < N:\n",
    "            # Cross out this as it is composite\n",
    "            is_prime[j] = 0\n",
    "            # j is incremented by i, because we want to cover all multiples of i\n",
    "            j += i\n",
    "\n",
    "        i += 1\n",
    "    \n",
    "    primes = [idx for idx, element in enumerate(is_prime) if (element == 1 and idx > 1)]\n",
    "    return primes"
   ]
  },
  {
   "cell_type": "code",
   "execution_count": null,
   "metadata": {
    "scrolled": true
   },
   "outputs": [],
   "source": [
    "import numpy as np\n",
    "import time\n",
    "primes = []\n",
    "powers = []\n",
    "num = 1\n",
    "n=10**7\n",
    "start_time = time.time()\n",
    "primes = fast_prime(n)\n",
    "for i in primes:\n",
    "    powers.append(int(np.floor(np.log(n)//np.log(i))))\n",
    "        \n",
    "for i in range(len(primes)):\n",
    "    num *= primes[i]**powers[i]\n",
    "print(\"--- %s seconds ---\" % (time.time() - start_time))\n",
    "print(num)"
   ]
  },
  {
   "cell_type": "code",
   "execution_count": 125,
   "metadata": {},
   "outputs": [
    {
     "data": {
      "text/plain": [
       "[3, 2, 1, 1]"
      ]
     },
     "execution_count": 125,
     "metadata": {},
     "output_type": "execute_result"
    }
   ],
   "source": [
    "powers"
   ]
  },
  {
   "cell_type": "code",
   "execution_count": 80,
   "metadata": {},
   "outputs": [],
   "source": [
    "n=10"
   ]
  },
  {
   "cell_type": "code",
   "execution_count": 81,
   "metadata": {},
   "outputs": [
    {
     "data": {
      "text/plain": [
       "5"
      ]
     },
     "execution_count": 81,
     "metadata": {},
     "output_type": "execute_result"
    }
   ],
   "source": [
    "n//2"
   ]
  },
  {
   "cell_type": "code",
   "execution_count": 82,
   "metadata": {},
   "outputs": [
    {
     "data": {
      "text/plain": [
       "10"
      ]
     },
     "execution_count": 82,
     "metadata": {},
     "output_type": "execute_result"
    }
   ],
   "source": [
    "n"
   ]
  },
  {
   "cell_type": "code",
   "execution_count": 98,
   "metadata": {},
   "outputs": [
    {
     "ename": "AttributeError",
     "evalue": "'builtin_function_or_method' object has no attribute 'now'",
     "output_type": "error",
     "traceback": [
      "\u001b[0;31m---------------------------------------------------------------------------\u001b[0m",
      "\u001b[0;31mAttributeError\u001b[0m                            Traceback (most recent call last)",
      "\u001b[0;32m<ipython-input-98-1dc07f0d8556>\u001b[0m in \u001b[0;36m<module>\u001b[0;34m\u001b[0m\n\u001b[0;32m----> 1\u001b[0;31m \u001b[0mtime\u001b[0m\u001b[0;34m.\u001b[0m\u001b[0mtime\u001b[0m\u001b[0;34m.\u001b[0m\u001b[0mnow\u001b[0m\u001b[0;34m(\u001b[0m\u001b[0;34m)\u001b[0m\u001b[0;34m\u001b[0m\u001b[0;34m\u001b[0m\u001b[0m\n\u001b[0m",
      "\u001b[0;31mAttributeError\u001b[0m: 'builtin_function_or_method' object has no attribute 'now'"
     ]
    }
   ],
   "source": [
    "time.time.now()"
   ]
  },
  {
   "cell_type": "code",
   "execution_count": 131,
   "metadata": {},
   "outputs": [
    {
     "data": {
      "text/plain": [
       "100"
      ]
     },
     "execution_count": 131,
     "metadata": {},
     "output_type": "execute_result"
    }
   ],
   "source": [
    "10**2"
   ]
  },
  {
   "cell_type": "code",
   "execution_count": null,
   "metadata": {},
   "outputs": [],
   "source": []
  }
 ],
 "metadata": {
  "kernelspec": {
   "display_name": "Python 3",
   "language": "python",
   "name": "python3"
  },
  "language_info": {
   "codemirror_mode": {
    "name": "ipython",
    "version": 3
   },
   "file_extension": ".py",
   "mimetype": "text/x-python",
   "name": "python",
   "nbconvert_exporter": "python",
   "pygments_lexer": "ipython3",
   "version": "3.8.3"
  }
 },
 "nbformat": 4,
 "nbformat_minor": 4
}
